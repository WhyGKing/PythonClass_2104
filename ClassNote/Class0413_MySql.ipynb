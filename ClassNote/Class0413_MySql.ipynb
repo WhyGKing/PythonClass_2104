{
 "cells": [
  {
   "cell_type": "markdown",
   "id": "worth-synthesis",
   "metadata": {},
   "source": [
    "참조사이트 https://www.mysqltutorial.org/\n",
    "\n",
    "My SQL 삭제\n",
    "\n",
    "mysql.com 접속 (또는 오라클 접속)\n",
    "\n",
    "my sql community server\n",
    "\n",
    "my sql installer Windows (x86, 32-bit), MSI Installer\n",
    "\n",
    "image.png\n",
    "\n",
    "installimage-2.png\n",
    "Port: 3306\n",
    "\n",
    "image-3.pngpassword: 1234\n",
    "\n",
    "image-4.png\n",
    "\n",
    "mySQL Workbench\n",
    "생성 >>> schemas >>>\n",
    "\n",
    "데이타베이스 만들기 (schema만들기)image-5.pngimage-6.png\n",
    "image-7.png\n",
    "\n",
    "CREATE SCHEMA pywebdb DEFAULT CHARACTER SET utf8 ; >>> sql 스크립트(언어)\n",
    "\n",
    "workbench에 스키마 만들어짐.\n",
    "\n",
    "테이블 만들기image-8.pngimage-9.pngimage-10.pngimage-11.png>>> 명령어 실행 (한줄실행, 여러줄 샐행)image-12.png\n",
    "tbl.....으로 이름생성image-13.png\n",
    "\n",
    "PK: primary key NN: Non nul >>> primary key에서는 반드시 생성image-14.pngUQ: uniq\n",
    "\n",
    "VARCHAR(45) >>> var을 붙여주면, 실제 데이타에 맞게 자리를 주고, 나머지 자리는 돌려줌. 한글 한글자는 3바이트. 45바이트 확보\n",
    "\n",
    "image-15.png\n",
    "\n",
    "데이타 생성"
   ]
  }
 ],
 "metadata": {
  "kernelspec": {
   "display_name": "Python 3",
   "language": "python",
   "name": "python3"
  },
  "language_info": {
   "codemirror_mode": {
    "name": "ipython",
    "version": 3
   },
   "file_extension": ".py",
   "mimetype": "text/x-python",
   "name": "python",
   "nbconvert_exporter": "python",
   "pygments_lexer": "ipython3",
   "version": "3.9.2"
  }
 },
 "nbformat": 4,
 "nbformat_minor": 5
}
