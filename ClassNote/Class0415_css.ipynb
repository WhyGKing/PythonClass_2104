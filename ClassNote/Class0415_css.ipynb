{
 "cells": [
  {
   "cell_type": "markdown",
   "id": "mighty-persian",
   "metadata": {},
   "source": [
    "### CSS (Cascading style sheet)\n",
    "\n",
    "p {text-align: center;} >>>>선택자, 스타일 속성, 센터 >>> p 태크안의 모든 행에 적용\n",
    "\n",
    "3가지 적용방법\n",
    "- 내부스타일 시트: Head태그안에 스타일 태그사용\n",
    "- 외부스타일 시트: Link를 이용해서 (link href=\"style.css\"...\n",
    "- 인라인 시트: 태그안에서 스타일 적용\n",
    "\n",
    "\n",
    "스타일시트 우선순위: 인라인-id-클래스-태그\n",
    "!important >>>> 최우선순위로 설정\n",
    "\n",
    "\n",
    ".rotatebox:  >>>>>콜론은 이벤트를 나타냄.\n",
    "\n",
    "\n",
    "###### CSS 포지셔닝:\n",
    "float속성: 반응형웹을 구성할 수 있다. (익스플로어 창의 크기에 따라 그림의 위치가 바뀜)\n",
    "fixed속성: 스크롤이 되어도 위치가 바뀌지 않음.\n",
    "\n",
    "\n",
    "\n",
    "https://www.w3schools.com/\n",
    ">>>> 개발자로서 수시로 확인 필요 \n",
    "부트스트랩: html과 css를 묶어놓은 것.(라이브러리)\n",
    "\n",
    "\n",
    "https://www.tutorialspoint.com/index.htm\n",
    ">>> library에 수많은 자료들이 있음. 현재는 유료화 되어 있음."
   ]
  }
 ],
 "metadata": {
  "kernelspec": {
   "display_name": "Python 3",
   "language": "python",
   "name": "python3"
  },
  "language_info": {
   "codemirror_mode": {
    "name": "ipython",
    "version": 3
   },
   "file_extension": ".py",
   "mimetype": "text/x-python",
   "name": "python",
   "nbconvert_exporter": "python",
   "pygments_lexer": "ipython3",
   "version": "3.9.2"
  }
 },
 "nbformat": 4,
 "nbformat_minor": 5
}
