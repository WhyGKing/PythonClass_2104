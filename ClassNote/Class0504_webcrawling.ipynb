{
 "cells": [
  {
   "cell_type": "code",
   "execution_count": 4,
   "id": "changing-stick",
   "metadata": {},
   "outputs": [
    {
     "name": "stdout",
     "output_type": "stream",
     "text": [
      "462 페이지 데이터 수신 실패\n"
     ]
    }
   ],
   "source": [
    "import requests\n",
    "\n",
    "# url = \"https://www.naver.com\"   # 정상적 url 요청\n",
    "url = \"https://www.test.com\"   # 비정상적 url 요청\n",
    "rs = requests.post(url)\n",
    "\n",
    "rs_code = rs.status_code\n",
    "\n",
    "if int(rs_code) == 200:\n",
    "    print(\"페이지 데이터 정상 수신\")\n",
    "    page_data = rs.text\n",
    "    print(page_data)\n",
    "else:\n",
    "    print(rs_code,\"페이지 데이터 수신 실패\")   "
   ]
  },
  {
   "cell_type": "markdown",
   "id": "dramatic-employment",
   "metadata": {},
   "source": [
    ">>> http response error code 구글검색 정리\n",
    "rs_code : 모든 오류내역을 dictionary 로 해서 프로그램에서 되돌려 줘야함."
   ]
  },
  {
   "cell_type": "markdown",
   "id": "reported-teaching",
   "metadata": {},
   "source": [
    "#### urllib\n",
    "python의 표준모듈로 설치가 필요없음.\n",
    "\n",
    "* API관련 reference : API모음: https://docs.python.org/ko/3.10/library/urllib.request.html\n",
    "\n",
    "robotparser: robots.txt \n",
    ": 검색로봇이 검색 allow하지 못하도록 하기 위해서 기록, 특정폴더 허용하지 않음.\n",
    "법적 문제야기를 막기위해 새로운 웹사이트는 robot.txt를 확인."
   ]
  },
  {
   "cell_type": "code",
   "execution_count": 6,
   "id": "upper-february",
   "metadata": {},
   "outputs": [
    {
     "name": "stdout",
     "output_type": "stream",
     "text": [
      "<class 'requests.models.Response'>\n",
      "<class 'urllib.request.Request'>\n",
      "https://introsjlee.pythonanywhere.com\n",
      "https\n",
      "introsjlee.pythonanywhere.com\n"
     ]
    }
   ],
   "source": [
    "import urllib\n",
    "import requests\n",
    "URL = 'https://introsjlee.pythonanywhere.com'\n",
    "response_requests = requests.get(URL)\n",
    "response_urllib = urllib.request.Request(URL)\n",
    "\n",
    "print(type(response_requests))\n",
    "print(type(response_urllib))\n",
    "\n",
    "print(response_urllib.full_url)\n",
    "print(response_urllib.type)\n",
    "print(response_urllib.host)"
   ]
  },
  {
   "cell_type": "markdown",
   "id": "cheap-preserve",
   "metadata": {},
   "source": []
  },
  {
   "cell_type": "code",
   "execution_count": null,
   "id": "suspected-steering",
   "metadata": {},
   "outputs": [],
   "source": []
  }
 ],
 "metadata": {
  "kernelspec": {
   "display_name": "Python 3",
   "language": "python",
   "name": "python3"
  },
  "language_info": {
   "codemirror_mode": {
    "name": "ipython",
    "version": 3
   },
   "file_extension": ".py",
   "mimetype": "text/x-python",
   "name": "python",
   "nbconvert_exporter": "python",
   "pygments_lexer": "ipython3",
   "version": "3.9.2"
  }
 },
 "nbformat": 4,
 "nbformat_minor": 5
}
